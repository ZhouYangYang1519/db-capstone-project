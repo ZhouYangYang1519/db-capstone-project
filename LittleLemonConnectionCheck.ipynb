{
 "cells": [
  {
   "cell_type": "code",
   "execution_count": 41,
   "id": "3beb6a82",
   "metadata": {},
   "outputs": [],
   "source": [
    "#!pip install mysql-connector-python\n",
    "\n",
    "# Import the MySQL Connector/Python\n",
    "import mysql.connector as connector\n"
   ]
  },
  {
   "cell_type": "code",
   "execution_count": 42,
   "id": "c868f8ca",
   "metadata": {
    "scrolled": true
   },
   "outputs": [
    {
     "name": "stdout",
     "output_type": "stream",
     "text": [
      "Connection between MySQL and Python is established.\n",
      "\n"
     ]
    }
   ],
   "source": [
    "# Establish connection between Python and MySQL database via connector API\n",
    "connection=connector.connect(\n",
    "                             host=\"localhost\",\n",
    "                             port=3306,\n",
    "                             user=\"root\", # use your own\n",
    "                             password=\"Zhiyenvxing215$\", # use your own\n",
    "                             database=\"little_lemon\",\n",
    "                            use_pure=True,          # <- clave para evitar el crash\n",
    "                            connection_timeout=10,\n",
    "                            )\n",
    "print(\"Connection between MySQL and Python is established.\\n\")\n",
    "\n"
   ]
  },
  {
   "cell_type": "code",
   "execution_count": 43,
   "id": "b222821c",
   "metadata": {},
   "outputs": [
    {
     "name": "stdout",
     "output_type": "stream",
     "text": [
      "Cursor is created to communicate with the MySQL using Python.\n",
      "\n"
     ]
    }
   ],
   "source": [
    "# Create cursor object to communicate with entire MySQL database\n",
    "cursor = connection.cursor()\n",
    "print(\"Cursor is created to communicate with the MySQL using Python.\\n\")\n",
    "\n"
   ]
  },
  {
   "cell_type": "code",
   "execution_count": 44,
   "id": "c165b796",
   "metadata": {},
   "outputs": [
    {
     "name": "stdout",
     "output_type": "stream",
     "text": [
      "The database little_lemon is set for use.\n",
      "\n"
     ]
    }
   ],
   "source": [
    "# Set little_lemon database for use \n",
    "cursor.execute(\"USE little_lemon\")\n",
    "print(\"The database little_lemon is set for use.\\n\")"
   ]
  },
  {
   "cell_type": "code",
   "execution_count": 45,
   "id": "e1916fbb",
   "metadata": {},
   "outputs": [
    {
     "name": "stdout",
     "output_type": "stream",
     "text": [
      "3\n"
     ]
    }
   ],
   "source": [
    "# Call the stored procedure\n",
    "cursor.callproc(\"GetMaxQuantity\")\n",
    "# Get the result of the stored procedure\n",
    "results=next(cursor.stored_results())\n",
    "# Fetch all rows from the result set\n",
    "dataset=results.fetchall()\n",
    "# Print each row in the dataset\n",
    "print(dataset[0][0])"
   ]
  },
  {
   "cell_type": "code",
   "execution_count": 46,
   "id": "c3452a7c",
   "metadata": {},
   "outputs": [
    {
     "name": "stdout",
     "output_type": "stream",
     "text": [
      "[(77, datetime.date(2021, 4, 28), 1)]\n"
     ]
    }
   ],
   "source": [
    "# Call the stored procedure\n",
    "cursor.callproc(\"ManageBooking\",(77,))\n",
    "for result in cursor.stored_results():\n",
    "    rows = result.fetchall()\n",
    "    print(rows)"
   ]
  },
  {
   "cell_type": "code",
   "execution_count": 47,
   "id": "e0c720ec",
   "metadata": {},
   "outputs": [
    {
     "name": "stdout",
     "output_type": "stream",
     "text": [
      "[(3, datetime.date(2026, 11, 1), 10)]\n"
     ]
    }
   ],
   "source": [
    "# Call the stored procedure\n",
    "cursor.callproc(\"UpdateBooking\", (3, '2026-11-01', 10))\n",
    "for result in cursor.stored_results():\n",
    "    rows = result.fetchall()\n",
    "    print(rows)"
   ]
  },
  {
   "cell_type": "code",
   "execution_count": 48,
   "id": "e8a5dc68",
   "metadata": {},
   "outputs": [
    {
     "name": "stdout",
     "output_type": "stream",
     "text": [
      "[(1026, '07-158-6611', datetime.date(2025, 11, 10), 3)]\n"
     ]
    }
   ],
   "source": [
    "# Call the stored procedure\n",
    "cursor.callproc(\"AddBooking\", ('07-158-6611', '2025-11-10', 3))\n",
    "for result in cursor.stored_results():\n",
    "    rows = result.fetchall()\n",
    "    print(rows)"
   ]
  },
  {
   "cell_type": "code",
   "execution_count": 52,
   "id": "800615ee",
   "metadata": {},
   "outputs": [
    {
     "name": "stdout",
     "output_type": "stream",
     "text": [
      "[('Booking 89 cancelled successfully',)]\n"
     ]
    }
   ],
   "source": [
    "try:\n",
    "    cursor.callproc(\"CancelBooking\", (89,))\n",
    "    for result in cursor.stored_results():\n",
    "        rows = result.fetchall()\n",
    "        print(rows)\n",
    "    connection.commit()\n",
    "except mysql.connector.Error as e:\n",
    "    print(e.msg)  # 'Cannot cancel: booking has existing orders'\n",
    "\n"
   ]
  },
  {
   "cell_type": "code",
   "execution_count": null,
   "id": "a765b7d0",
   "metadata": {},
   "outputs": [],
   "source": []
  },
  {
   "cell_type": "code",
   "execution_count": 53,
   "id": "b6bf66c6",
   "metadata": {},
   "outputs": [],
   "source": [
    "# Close the cursor\n",
    "cursor.close()\n",
    "# Close the database connection\n",
    "connection.close()"
   ]
  },
  {
   "cell_type": "code",
   "execution_count": null,
   "id": "7b8ae2fc",
   "metadata": {},
   "outputs": [],
   "source": []
  }
 ],
 "metadata": {
  "kernelspec": {
   "display_name": "Python 3 (ipykernel)",
   "language": "python",
   "name": "python3"
  },
  "language_info": {
   "codemirror_mode": {
    "name": "ipython",
    "version": 3
   },
   "file_extension": ".py",
   "mimetype": "text/x-python",
   "name": "python",
   "nbconvert_exporter": "python",
   "pygments_lexer": "ipython3",
   "version": "3.11.5"
  }
 },
 "nbformat": 4,
 "nbformat_minor": 5
}
